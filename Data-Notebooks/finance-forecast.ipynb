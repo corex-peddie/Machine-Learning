{
 "cells": [
  {
   "cell_type": "markdown",
   "source": [
    "# Imports"
   ],
   "metadata": {}
  },
  {
   "cell_type": "code",
   "execution_count": 1,
   "source": [
    "import pandas as pd\r\n",
    "import numpy as np\r\n",
    "\r\n",
    "from sklearn.model_selection import train_test_split\r\n",
    "from sklearn.ensemble import RandomForestRegressor\r\n",
    "from sklearn.linear_model import LinearRegression\r\n",
    "\r\n",
    "import plotly.graph_objects as go\r\n",
    "import plotly.express as px\r\n",
    "import plotly.io as pio\r\n",
    "\r\n",
    "pio.renderers.default = \"png\"\r\n",
    "config = dict({'scrollZoom': True})\r\n",
    "\r\n",
    "from joblib import dump"
   ],
   "outputs": [],
   "metadata": {}
  },
  {
   "cell_type": "markdown",
   "source": [
    "# Data Processing"
   ],
   "metadata": {}
  },
  {
   "cell_type": "code",
   "execution_count": 2,
   "source": [
    "data = pd.read_csv('D:/ML_Data/finance_peddie_hacks/finance_data.csv')\r\n",
    "data = data.drop(columns='Extras')\r\n",
    "data.rename(columns = {'Expenses ': 'Expenses', 'Profit ': 'Profit'}, inplace = True)"
   ],
   "outputs": [],
   "metadata": {}
  },
  {
   "cell_type": "code",
   "execution_count": 3,
   "source": [
    "data"
   ],
   "outputs": [
    {
     "output_type": "execute_result",
     "data": {
      "text/plain": [
       "   Month Name  Month Number  Total Sales/Revenue  Expenses  Profit\n",
       "0    Jan 2020             1                 3000      1200    1800\n",
       "1    Feb 2020             2                 3200      1280    1920\n",
       "2    Mar 2020             3                 2600      1040    1560\n",
       "3    Apr 2020             4                 2700      1080    1620\n",
       "4    May 2020             5                 2400       960    1440\n",
       "5    Jun 2020             6                 2800      1120    1680\n",
       "6    Jul 2020             7                 3100      1240    1860\n",
       "7    Aug 2020             8                 3300      1320    1980\n",
       "8    Sep 2020             9                 3460      1384    2076\n",
       "9    Oct 2020            10                 3600      1440    2160\n",
       "10   Nov 2020            11                 3740      1496    2244\n",
       "11   Dec 2020            12                 4000      1600    2400\n",
       "12   Jan 2021            13                 4200      1680    2520\n",
       "13   Feb 2021            14                 3900      1560    2340\n",
       "14   Mar 2021            15                 3480      1392    2088\n",
       "15   Apr 2021            16                 3600      1440    2160\n",
       "16   May 2021            17                 3800      1520    2280\n",
       "17   Jun 2021            18                 4400      1760    2640\n",
       "18   Jul 2021            19                 4600      1840    2760\n",
       "19   Aug 2021            20                 4700      1880    2820"
      ],
      "text/html": [
       "<div>\n",
       "<style scoped>\n",
       "    .dataframe tbody tr th:only-of-type {\n",
       "        vertical-align: middle;\n",
       "    }\n",
       "\n",
       "    .dataframe tbody tr th {\n",
       "        vertical-align: top;\n",
       "    }\n",
       "\n",
       "    .dataframe thead th {\n",
       "        text-align: right;\n",
       "    }\n",
       "</style>\n",
       "<table border=\"1\" class=\"dataframe\">\n",
       "  <thead>\n",
       "    <tr style=\"text-align: right;\">\n",
       "      <th></th>\n",
       "      <th>Month Name</th>\n",
       "      <th>Month Number</th>\n",
       "      <th>Total Sales/Revenue</th>\n",
       "      <th>Expenses</th>\n",
       "      <th>Profit</th>\n",
       "    </tr>\n",
       "  </thead>\n",
       "  <tbody>\n",
       "    <tr>\n",
       "      <th>0</th>\n",
       "      <td>Jan 2020</td>\n",
       "      <td>1</td>\n",
       "      <td>3000</td>\n",
       "      <td>1200</td>\n",
       "      <td>1800</td>\n",
       "    </tr>\n",
       "    <tr>\n",
       "      <th>1</th>\n",
       "      <td>Feb 2020</td>\n",
       "      <td>2</td>\n",
       "      <td>3200</td>\n",
       "      <td>1280</td>\n",
       "      <td>1920</td>\n",
       "    </tr>\n",
       "    <tr>\n",
       "      <th>2</th>\n",
       "      <td>Mar 2020</td>\n",
       "      <td>3</td>\n",
       "      <td>2600</td>\n",
       "      <td>1040</td>\n",
       "      <td>1560</td>\n",
       "    </tr>\n",
       "    <tr>\n",
       "      <th>3</th>\n",
       "      <td>Apr 2020</td>\n",
       "      <td>4</td>\n",
       "      <td>2700</td>\n",
       "      <td>1080</td>\n",
       "      <td>1620</td>\n",
       "    </tr>\n",
       "    <tr>\n",
       "      <th>4</th>\n",
       "      <td>May 2020</td>\n",
       "      <td>5</td>\n",
       "      <td>2400</td>\n",
       "      <td>960</td>\n",
       "      <td>1440</td>\n",
       "    </tr>\n",
       "    <tr>\n",
       "      <th>5</th>\n",
       "      <td>Jun 2020</td>\n",
       "      <td>6</td>\n",
       "      <td>2800</td>\n",
       "      <td>1120</td>\n",
       "      <td>1680</td>\n",
       "    </tr>\n",
       "    <tr>\n",
       "      <th>6</th>\n",
       "      <td>Jul 2020</td>\n",
       "      <td>7</td>\n",
       "      <td>3100</td>\n",
       "      <td>1240</td>\n",
       "      <td>1860</td>\n",
       "    </tr>\n",
       "    <tr>\n",
       "      <th>7</th>\n",
       "      <td>Aug 2020</td>\n",
       "      <td>8</td>\n",
       "      <td>3300</td>\n",
       "      <td>1320</td>\n",
       "      <td>1980</td>\n",
       "    </tr>\n",
       "    <tr>\n",
       "      <th>8</th>\n",
       "      <td>Sep 2020</td>\n",
       "      <td>9</td>\n",
       "      <td>3460</td>\n",
       "      <td>1384</td>\n",
       "      <td>2076</td>\n",
       "    </tr>\n",
       "    <tr>\n",
       "      <th>9</th>\n",
       "      <td>Oct 2020</td>\n",
       "      <td>10</td>\n",
       "      <td>3600</td>\n",
       "      <td>1440</td>\n",
       "      <td>2160</td>\n",
       "    </tr>\n",
       "    <tr>\n",
       "      <th>10</th>\n",
       "      <td>Nov 2020</td>\n",
       "      <td>11</td>\n",
       "      <td>3740</td>\n",
       "      <td>1496</td>\n",
       "      <td>2244</td>\n",
       "    </tr>\n",
       "    <tr>\n",
       "      <th>11</th>\n",
       "      <td>Dec 2020</td>\n",
       "      <td>12</td>\n",
       "      <td>4000</td>\n",
       "      <td>1600</td>\n",
       "      <td>2400</td>\n",
       "    </tr>\n",
       "    <tr>\n",
       "      <th>12</th>\n",
       "      <td>Jan 2021</td>\n",
       "      <td>13</td>\n",
       "      <td>4200</td>\n",
       "      <td>1680</td>\n",
       "      <td>2520</td>\n",
       "    </tr>\n",
       "    <tr>\n",
       "      <th>13</th>\n",
       "      <td>Feb 2021</td>\n",
       "      <td>14</td>\n",
       "      <td>3900</td>\n",
       "      <td>1560</td>\n",
       "      <td>2340</td>\n",
       "    </tr>\n",
       "    <tr>\n",
       "      <th>14</th>\n",
       "      <td>Mar 2021</td>\n",
       "      <td>15</td>\n",
       "      <td>3480</td>\n",
       "      <td>1392</td>\n",
       "      <td>2088</td>\n",
       "    </tr>\n",
       "    <tr>\n",
       "      <th>15</th>\n",
       "      <td>Apr 2021</td>\n",
       "      <td>16</td>\n",
       "      <td>3600</td>\n",
       "      <td>1440</td>\n",
       "      <td>2160</td>\n",
       "    </tr>\n",
       "    <tr>\n",
       "      <th>16</th>\n",
       "      <td>May 2021</td>\n",
       "      <td>17</td>\n",
       "      <td>3800</td>\n",
       "      <td>1520</td>\n",
       "      <td>2280</td>\n",
       "    </tr>\n",
       "    <tr>\n",
       "      <th>17</th>\n",
       "      <td>Jun 2021</td>\n",
       "      <td>18</td>\n",
       "      <td>4400</td>\n",
       "      <td>1760</td>\n",
       "      <td>2640</td>\n",
       "    </tr>\n",
       "    <tr>\n",
       "      <th>18</th>\n",
       "      <td>Jul 2021</td>\n",
       "      <td>19</td>\n",
       "      <td>4600</td>\n",
       "      <td>1840</td>\n",
       "      <td>2760</td>\n",
       "    </tr>\n",
       "    <tr>\n",
       "      <th>19</th>\n",
       "      <td>Aug 2021</td>\n",
       "      <td>20</td>\n",
       "      <td>4700</td>\n",
       "      <td>1880</td>\n",
       "      <td>2820</td>\n",
       "    </tr>\n",
       "  </tbody>\n",
       "</table>\n",
       "</div>"
      ]
     },
     "metadata": {},
     "execution_count": 3
    }
   ],
   "metadata": {}
  },
  {
   "cell_type": "code",
   "execution_count": 4,
   "source": [
    "data['Rolling Revenue'] = data['Total Sales/Revenue'].rolling(window=2).mean()\r\n",
    "data['Rolling Expenses'] = data['Expenses'].rolling(window=2).mean()\r\n",
    "data['Rolling Profit'] = data['Profit'].rolling(window=2).mean()\r\n",
    "\r\n",
    "data.at[0,'Rolling Revenue']= 3000\r\n",
    "data.at[0,'Rolling Expenses']= 1200\r\n",
    "data.at[0,'Rolling Profit']= 1800"
   ],
   "outputs": [],
   "metadata": {}
  },
  {
   "cell_type": "code",
   "execution_count": 5,
   "source": [
    "data = data.fillna(0)\r\n",
    "data"
   ],
   "outputs": [
    {
     "output_type": "execute_result",
     "data": {
      "text/plain": [
       "   Month Name  Month Number  Total Sales/Revenue  Expenses  Profit  \\\n",
       "0    Jan 2020             1                 3000      1200    1800   \n",
       "1    Feb 2020             2                 3200      1280    1920   \n",
       "2    Mar 2020             3                 2600      1040    1560   \n",
       "3    Apr 2020             4                 2700      1080    1620   \n",
       "4    May 2020             5                 2400       960    1440   \n",
       "5    Jun 2020             6                 2800      1120    1680   \n",
       "6    Jul 2020             7                 3100      1240    1860   \n",
       "7    Aug 2020             8                 3300      1320    1980   \n",
       "8    Sep 2020             9                 3460      1384    2076   \n",
       "9    Oct 2020            10                 3600      1440    2160   \n",
       "10   Nov 2020            11                 3740      1496    2244   \n",
       "11   Dec 2020            12                 4000      1600    2400   \n",
       "12   Jan 2021            13                 4200      1680    2520   \n",
       "13   Feb 2021            14                 3900      1560    2340   \n",
       "14   Mar 2021            15                 3480      1392    2088   \n",
       "15   Apr 2021            16                 3600      1440    2160   \n",
       "16   May 2021            17                 3800      1520    2280   \n",
       "17   Jun 2021            18                 4400      1760    2640   \n",
       "18   Jul 2021            19                 4600      1840    2760   \n",
       "19   Aug 2021            20                 4700      1880    2820   \n",
       "\n",
       "    Rolling Revenue  Rolling Expenses  Rolling Profit  \n",
       "0            3000.0            1200.0          1800.0  \n",
       "1            3100.0            1240.0          1860.0  \n",
       "2            2900.0            1160.0          1740.0  \n",
       "3            2650.0            1060.0          1590.0  \n",
       "4            2550.0            1020.0          1530.0  \n",
       "5            2600.0            1040.0          1560.0  \n",
       "6            2950.0            1180.0          1770.0  \n",
       "7            3200.0            1280.0          1920.0  \n",
       "8            3380.0            1352.0          2028.0  \n",
       "9            3530.0            1412.0          2118.0  \n",
       "10           3670.0            1468.0          2202.0  \n",
       "11           3870.0            1548.0          2322.0  \n",
       "12           4100.0            1640.0          2460.0  \n",
       "13           4050.0            1620.0          2430.0  \n",
       "14           3690.0            1476.0          2214.0  \n",
       "15           3540.0            1416.0          2124.0  \n",
       "16           3700.0            1480.0          2220.0  \n",
       "17           4100.0            1640.0          2460.0  \n",
       "18           4500.0            1800.0          2700.0  \n",
       "19           4650.0            1860.0          2790.0  "
      ],
      "text/html": [
       "<div>\n",
       "<style scoped>\n",
       "    .dataframe tbody tr th:only-of-type {\n",
       "        vertical-align: middle;\n",
       "    }\n",
       "\n",
       "    .dataframe tbody tr th {\n",
       "        vertical-align: top;\n",
       "    }\n",
       "\n",
       "    .dataframe thead th {\n",
       "        text-align: right;\n",
       "    }\n",
       "</style>\n",
       "<table border=\"1\" class=\"dataframe\">\n",
       "  <thead>\n",
       "    <tr style=\"text-align: right;\">\n",
       "      <th></th>\n",
       "      <th>Month Name</th>\n",
       "      <th>Month Number</th>\n",
       "      <th>Total Sales/Revenue</th>\n",
       "      <th>Expenses</th>\n",
       "      <th>Profit</th>\n",
       "      <th>Rolling Revenue</th>\n",
       "      <th>Rolling Expenses</th>\n",
       "      <th>Rolling Profit</th>\n",
       "    </tr>\n",
       "  </thead>\n",
       "  <tbody>\n",
       "    <tr>\n",
       "      <th>0</th>\n",
       "      <td>Jan 2020</td>\n",
       "      <td>1</td>\n",
       "      <td>3000</td>\n",
       "      <td>1200</td>\n",
       "      <td>1800</td>\n",
       "      <td>3000.0</td>\n",
       "      <td>1200.0</td>\n",
       "      <td>1800.0</td>\n",
       "    </tr>\n",
       "    <tr>\n",
       "      <th>1</th>\n",
       "      <td>Feb 2020</td>\n",
       "      <td>2</td>\n",
       "      <td>3200</td>\n",
       "      <td>1280</td>\n",
       "      <td>1920</td>\n",
       "      <td>3100.0</td>\n",
       "      <td>1240.0</td>\n",
       "      <td>1860.0</td>\n",
       "    </tr>\n",
       "    <tr>\n",
       "      <th>2</th>\n",
       "      <td>Mar 2020</td>\n",
       "      <td>3</td>\n",
       "      <td>2600</td>\n",
       "      <td>1040</td>\n",
       "      <td>1560</td>\n",
       "      <td>2900.0</td>\n",
       "      <td>1160.0</td>\n",
       "      <td>1740.0</td>\n",
       "    </tr>\n",
       "    <tr>\n",
       "      <th>3</th>\n",
       "      <td>Apr 2020</td>\n",
       "      <td>4</td>\n",
       "      <td>2700</td>\n",
       "      <td>1080</td>\n",
       "      <td>1620</td>\n",
       "      <td>2650.0</td>\n",
       "      <td>1060.0</td>\n",
       "      <td>1590.0</td>\n",
       "    </tr>\n",
       "    <tr>\n",
       "      <th>4</th>\n",
       "      <td>May 2020</td>\n",
       "      <td>5</td>\n",
       "      <td>2400</td>\n",
       "      <td>960</td>\n",
       "      <td>1440</td>\n",
       "      <td>2550.0</td>\n",
       "      <td>1020.0</td>\n",
       "      <td>1530.0</td>\n",
       "    </tr>\n",
       "    <tr>\n",
       "      <th>5</th>\n",
       "      <td>Jun 2020</td>\n",
       "      <td>6</td>\n",
       "      <td>2800</td>\n",
       "      <td>1120</td>\n",
       "      <td>1680</td>\n",
       "      <td>2600.0</td>\n",
       "      <td>1040.0</td>\n",
       "      <td>1560.0</td>\n",
       "    </tr>\n",
       "    <tr>\n",
       "      <th>6</th>\n",
       "      <td>Jul 2020</td>\n",
       "      <td>7</td>\n",
       "      <td>3100</td>\n",
       "      <td>1240</td>\n",
       "      <td>1860</td>\n",
       "      <td>2950.0</td>\n",
       "      <td>1180.0</td>\n",
       "      <td>1770.0</td>\n",
       "    </tr>\n",
       "    <tr>\n",
       "      <th>7</th>\n",
       "      <td>Aug 2020</td>\n",
       "      <td>8</td>\n",
       "      <td>3300</td>\n",
       "      <td>1320</td>\n",
       "      <td>1980</td>\n",
       "      <td>3200.0</td>\n",
       "      <td>1280.0</td>\n",
       "      <td>1920.0</td>\n",
       "    </tr>\n",
       "    <tr>\n",
       "      <th>8</th>\n",
       "      <td>Sep 2020</td>\n",
       "      <td>9</td>\n",
       "      <td>3460</td>\n",
       "      <td>1384</td>\n",
       "      <td>2076</td>\n",
       "      <td>3380.0</td>\n",
       "      <td>1352.0</td>\n",
       "      <td>2028.0</td>\n",
       "    </tr>\n",
       "    <tr>\n",
       "      <th>9</th>\n",
       "      <td>Oct 2020</td>\n",
       "      <td>10</td>\n",
       "      <td>3600</td>\n",
       "      <td>1440</td>\n",
       "      <td>2160</td>\n",
       "      <td>3530.0</td>\n",
       "      <td>1412.0</td>\n",
       "      <td>2118.0</td>\n",
       "    </tr>\n",
       "    <tr>\n",
       "      <th>10</th>\n",
       "      <td>Nov 2020</td>\n",
       "      <td>11</td>\n",
       "      <td>3740</td>\n",
       "      <td>1496</td>\n",
       "      <td>2244</td>\n",
       "      <td>3670.0</td>\n",
       "      <td>1468.0</td>\n",
       "      <td>2202.0</td>\n",
       "    </tr>\n",
       "    <tr>\n",
       "      <th>11</th>\n",
       "      <td>Dec 2020</td>\n",
       "      <td>12</td>\n",
       "      <td>4000</td>\n",
       "      <td>1600</td>\n",
       "      <td>2400</td>\n",
       "      <td>3870.0</td>\n",
       "      <td>1548.0</td>\n",
       "      <td>2322.0</td>\n",
       "    </tr>\n",
       "    <tr>\n",
       "      <th>12</th>\n",
       "      <td>Jan 2021</td>\n",
       "      <td>13</td>\n",
       "      <td>4200</td>\n",
       "      <td>1680</td>\n",
       "      <td>2520</td>\n",
       "      <td>4100.0</td>\n",
       "      <td>1640.0</td>\n",
       "      <td>2460.0</td>\n",
       "    </tr>\n",
       "    <tr>\n",
       "      <th>13</th>\n",
       "      <td>Feb 2021</td>\n",
       "      <td>14</td>\n",
       "      <td>3900</td>\n",
       "      <td>1560</td>\n",
       "      <td>2340</td>\n",
       "      <td>4050.0</td>\n",
       "      <td>1620.0</td>\n",
       "      <td>2430.0</td>\n",
       "    </tr>\n",
       "    <tr>\n",
       "      <th>14</th>\n",
       "      <td>Mar 2021</td>\n",
       "      <td>15</td>\n",
       "      <td>3480</td>\n",
       "      <td>1392</td>\n",
       "      <td>2088</td>\n",
       "      <td>3690.0</td>\n",
       "      <td>1476.0</td>\n",
       "      <td>2214.0</td>\n",
       "    </tr>\n",
       "    <tr>\n",
       "      <th>15</th>\n",
       "      <td>Apr 2021</td>\n",
       "      <td>16</td>\n",
       "      <td>3600</td>\n",
       "      <td>1440</td>\n",
       "      <td>2160</td>\n",
       "      <td>3540.0</td>\n",
       "      <td>1416.0</td>\n",
       "      <td>2124.0</td>\n",
       "    </tr>\n",
       "    <tr>\n",
       "      <th>16</th>\n",
       "      <td>May 2021</td>\n",
       "      <td>17</td>\n",
       "      <td>3800</td>\n",
       "      <td>1520</td>\n",
       "      <td>2280</td>\n",
       "      <td>3700.0</td>\n",
       "      <td>1480.0</td>\n",
       "      <td>2220.0</td>\n",
       "    </tr>\n",
       "    <tr>\n",
       "      <th>17</th>\n",
       "      <td>Jun 2021</td>\n",
       "      <td>18</td>\n",
       "      <td>4400</td>\n",
       "      <td>1760</td>\n",
       "      <td>2640</td>\n",
       "      <td>4100.0</td>\n",
       "      <td>1640.0</td>\n",
       "      <td>2460.0</td>\n",
       "    </tr>\n",
       "    <tr>\n",
       "      <th>18</th>\n",
       "      <td>Jul 2021</td>\n",
       "      <td>19</td>\n",
       "      <td>4600</td>\n",
       "      <td>1840</td>\n",
       "      <td>2760</td>\n",
       "      <td>4500.0</td>\n",
       "      <td>1800.0</td>\n",
       "      <td>2700.0</td>\n",
       "    </tr>\n",
       "    <tr>\n",
       "      <th>19</th>\n",
       "      <td>Aug 2021</td>\n",
       "      <td>20</td>\n",
       "      <td>4700</td>\n",
       "      <td>1880</td>\n",
       "      <td>2820</td>\n",
       "      <td>4650.0</td>\n",
       "      <td>1860.0</td>\n",
       "      <td>2790.0</td>\n",
       "    </tr>\n",
       "  </tbody>\n",
       "</table>\n",
       "</div>"
      ]
     },
     "metadata": {},
     "execution_count": 5
    }
   ],
   "metadata": {}
  },
  {
   "cell_type": "code",
   "execution_count": 22,
   "source": [
    "data.to_csv('finance.csv')"
   ],
   "outputs": [],
   "metadata": {}
  },
  {
   "cell_type": "markdown",
   "source": [
    "# Data Visualization"
   ],
   "metadata": {}
  },
  {
   "cell_type": "code",
   "execution_count": 6,
   "source": [
    "px.line(data, x='Month Name', y=['Total Sales/Revenue', 'Expenses', 'Profit'])"
   ],
   "outputs": [
    {
     "output_type": "display_data",
     "data": {
      "image/png": "[encoded data removed]"
     },
     "metadata": {}
    }
   ],
   "metadata": {}
  },
  {
   "cell_type": "code",
   "execution_count": 7,
   "source": [
    "px.line(data, x='Month Name', y=['Rolling Profit', 'Profit'])"
   ],
   "outputs": [
    {
     "output_type": "display_data",
     "data": {
      "image/png": "[encoded data removed]"
     },
     "metadata": {}
    }
   ],
   "metadata": {}
  },
  {
   "cell_type": "code",
   "execution_count": 8,
   "source": [
    "px.scatter(data, x='Expenses', y='Profit')"
   ],
   "outputs": [
    {
     "output_type": "display_data",
     "data": {
      "image/png": "[encoded data removed]"
     },
     "metadata": {}
    }
   ],
   "metadata": {}
  },
  {
   "cell_type": "markdown",
   "source": [
    "# Profit Modelling"
   ],
   "metadata": {}
  },
  {
   "cell_type": "code",
   "execution_count": 9,
   "source": [
    "X1 = data['Rolling Profit']\r\n",
    "y1 = data['Profit']"
   ],
   "outputs": [],
   "metadata": {}
  },
  {
   "cell_type": "code",
   "execution_count": 10,
   "source": [
    "X_train1, X_test1, y_train1, y_test1 = train_test_split(X1, y1, test_size = 0.2, random_state = 5)\r\n",
    "\r\n",
    "X_train1 = np.array(X_train1).reshape(-1,1)\r\n",
    "y_train1 = np.array(y_train1).reshape(-1,1)\r\n",
    "X_test1 = np.array(X_test1).reshape(-1,1)\r\n",
    "y_test1 = np.array(y_test1).reshape(-1,1)"
   ],
   "outputs": [],
   "metadata": {}
  },
  {
   "cell_type": "code",
   "execution_count": 11,
   "source": [
    "lr1 = LinearRegression()\r\n",
    "lr1.fit(X_train1, y_train1)\r\n",
    "lr1.score(X_test1, y_test1)"
   ],
   "outputs": [
    {
     "output_type": "execute_result",
     "data": {
      "text/plain": [
       "0.9421218241987974"
      ]
     },
     "metadata": {},
     "execution_count": 11
    }
   ],
   "metadata": {}
  },
  {
   "cell_type": "code",
   "execution_count": 12,
   "source": [
    "dump(lr1, 'rolling_profit_model.joblib')"
   ],
   "outputs": [
    {
     "output_type": "execute_result",
     "data": {
      "text/plain": [
       "['rolling_profit_model.joblib']"
      ]
     },
     "metadata": {},
     "execution_count": 12
    }
   ],
   "metadata": {}
  },
  {
   "cell_type": "markdown",
   "source": [
    "# Profit Forecasting"
   ],
   "metadata": {}
  },
  {
   "cell_type": "code",
   "execution_count": 13,
   "source": [
    "X2 = data['Month Number']\r\n",
    "y2 = data['Profit']"
   ],
   "outputs": [],
   "metadata": {}
  },
  {
   "cell_type": "code",
   "execution_count": 14,
   "source": [
    "X_train2, X_test2, y_train2, y_test2 = train_test_split(X2, y2, test_size = 0.2, random_state = 5)\r\n",
    "\r\n",
    "X_train2 = np.array(X_train2).reshape(-1,1)\r\n",
    "y_train2 = np.array(y_train2).reshape(-1,1)\r\n",
    "X_test2 = np.array(X_test2).reshape(-1,1)\r\n",
    "y_test2 = np.array(y_test2).reshape(-1,1)"
   ],
   "outputs": [],
   "metadata": {}
  },
  {
   "cell_type": "code",
   "execution_count": 15,
   "source": [
    "lr2 = LinearRegression()\r\n",
    "lr2.fit(X_train2, y_train2)\r\n",
    "lr2.score(X_test2, y_test2)"
   ],
   "outputs": [
    {
     "output_type": "execute_result",
     "data": {
      "text/plain": [
       "0.8735438754258045"
      ]
     },
     "metadata": {},
     "execution_count": 15
    }
   ],
   "metadata": {}
  },
  {
   "cell_type": "code",
   "execution_count": 16,
   "source": [
    "lr2.predict([[23]])"
   ],
   "outputs": [
    {
     "output_type": "execute_result",
     "data": {
      "text/plain": [
       "array([[2735.97786292]])"
      ]
     },
     "metadata": {},
     "execution_count": 16
    }
   ],
   "metadata": {}
  },
  {
   "cell_type": "code",
   "execution_count": 17,
   "source": [
    "dump(lr2, 'profit_forecast.joblib')"
   ],
   "outputs": [
    {
     "output_type": "execute_result",
     "data": {
      "text/plain": [
       "['profit_forecast.joblib']"
      ]
     },
     "metadata": {},
     "execution_count": 17
    }
   ],
   "metadata": {}
  },
  {
   "cell_type": "markdown",
   "source": [
    "# Expense Forecasting"
   ],
   "metadata": {}
  },
  {
   "cell_type": "code",
   "execution_count": 23,
   "source": [
    "X3 = data['Month Number']\r\n",
    "y3 = data['Expenses']"
   ],
   "outputs": [],
   "metadata": {}
  },
  {
   "cell_type": "code",
   "execution_count": 24,
   "source": [
    "X_train3, X_test3, y_train3, y_test3 = train_test_split(X3, y3, test_size = 0.2, random_state = 5)\r\n",
    "\r\n",
    "X_train3 = np.array(X_train3).reshape(-1,1)\r\n",
    "y_train3 = np.array(y_train3).reshape(-1,1)\r\n",
    "X_test3 = np.array(X_test3).reshape(-1,1)\r\n",
    "y_test3 = np.array(y_test3).reshape(-1,1)"
   ],
   "outputs": [],
   "metadata": {}
  },
  {
   "cell_type": "code",
   "execution_count": 25,
   "source": [
    "lr3 = LinearRegression()\r\n",
    "lr3.fit(X_train3, y_train3)\r\n",
    "lr3.score(X_test3, y_test3)"
   ],
   "outputs": [
    {
     "output_type": "execute_result",
     "data": {
      "text/plain": [
       "0.8735438754258043"
      ]
     },
     "metadata": {},
     "execution_count": 25
    }
   ],
   "metadata": {}
  },
  {
   "cell_type": "code",
   "execution_count": 28,
   "source": [
    "lr3.predict([[23]])"
   ],
   "outputs": [
    {
     "output_type": "execute_result",
     "data": {
      "text/plain": [
       "array([[1823.98524195]])"
      ]
     },
     "metadata": {},
     "execution_count": 28
    }
   ],
   "metadata": {}
  },
  {
   "cell_type": "code",
   "execution_count": 29,
   "source": [
    "dump(lr3, 'expenses_forecasting.joblib')"
   ],
   "outputs": [
    {
     "output_type": "execute_result",
     "data": {
      "text/plain": [
       "['expenses_forecasting.joblib']"
      ]
     },
     "metadata": {},
     "execution_count": 29
    }
   ],
   "metadata": {}
  },
  {
   "cell_type": "code",
   "execution_count": null,
   "source": [],
   "outputs": [],
   "metadata": {}
  }
 ],
 "metadata": {
  "orig_nbformat": 4,
  "language_info": {
   "name": "python",
   "version": "3.6.12",
   "mimetype": "text/x-python",
   "codemirror_mode": {
    "name": "ipython",
    "version": 3
   },
   "pygments_lexer": "ipython3",
   "nbconvert_exporter": "python",
   "file_extension": ".py"
  },
  "kernelspec": {
   "name": "python3",
   "display_name": "Python 3.6.12 64-bit ('env0': conda)"
  },
  "interpreter": {
   "hash": "fefd83eafc0c2f3c8796de3f6632c2698dc12eafcdd46e5a8c965eb3d21b0b49"
  }
 },
 "nbformat": 4,
 "nbformat_minor": 2
}